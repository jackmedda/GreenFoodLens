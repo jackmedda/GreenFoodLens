{
 "cells": [
  {
   "cell_type": "code",
   "execution_count": 1,
   "id": "9d405b30-a731-40b1-93f7-0cf29665fd1a",
   "metadata": {},
   "outputs": [],
   "source": [
    "import os\n",
    "\n",
    "import polars as pl"
   ]
  },
  {
   "cell_type": "markdown",
   "id": "c54c3555-8c2b-4ca3-9d05-e7afe1f28204",
   "metadata": {
    "collapsed": true,
    "jupyter": {
     "outputs_hidden": true
    }
   },
   "source": [
    "# Load MTurk workers answers and decisions"
   ]
  },
  {
   "cell_type": "code",
   "execution_count": 2,
   "id": "16c3f953-9ae8-4def-9ee3-7b2fad173271",
   "metadata": {
    "scrolled": true
   },
   "outputs": [
    {
     "name": "stdout",
     "output_type": "stream",
     "text": [
      "# Answers 19219\n"
     ]
    },
    {
     "data": {
      "text/html": [
       "<div><style>\n",
       ".dataframe > thead > tr,\n",
       ".dataframe > tbody > tr {\n",
       "  text-align: right;\n",
       "  white-space: pre-wrap;\n",
       "}\n",
       "</style>\n",
       "<small>shape: (5, 11)</small><table border=\"1\" class=\"dataframe\"><thead><tr><th>hit_id</th><th>assign_id</th><th>worker_id</th><th>worker_name</th><th>ingredient_index</th><th>ingredient</th><th>answer_path</th><th>answer_level_path</th><th>Decision</th><th>Comment</th><th>Colonna1</th></tr><tr><td>str</td><td>str</td><td>str</td><td>str</td><td>i64</td><td>str</td><td>str</td><td>str</td><td>str</td><td>str</td><td>str</td></tr></thead><tbody><tr><td>&quot;3WJGKMRWW3MHF2BY2CG807C2EA0DCA&quot;</td><td>&quot;3DQQ64TAN2Y25HHNEEC51EWNG1PWPP&quot;</td><td>&quot;A1SMKHKMXWYIMW&quot;</td><td>&quot;A.Lala Hanitra&quot;</td><td>17161</td><td>&quot;monterey jack and cheddar chee…</td><td>&quot;ANIMAL DERIVED -&gt; CHEESE (GENE…</td><td>&quot;level0 -&gt; level1 -&gt; level2 -&gt; …</td><td>&quot;x&quot;</td><td>null</td><td>null</td></tr><tr><td>&quot;3SX4X51T9LMKQK5P87YX56YDILMAO2&quot;</td><td>&quot;3VBEN272M6C3LN7FRQCHAGFA9X4GSO&quot;</td><td>&quot;A1SMKHKMXWYIMW&quot;</td><td>&quot;A.Lala Hanitra&quot;</td><td>17263</td><td>&quot;white port&quot;</td><td>&quot;AGRICULTURAL PROCESSED -&gt; WINE…</td><td>&quot;level0 -&gt; level1 -&gt; level2&quot;</td><td>&quot;x&quot;</td><td>null</td><td>null</td></tr><tr><td>&quot;37VUR2VJ7V2NN7VMMJWDZ5BTPDU1C5&quot;</td><td>&quot;3PM8NZGV8KT2UTNSOWNG3204UB5QXF&quot;</td><td>&quot;A1SMKHKMXWYIMW&quot;</td><td>&quot;A.Lala Hanitra&quot;</td><td>12947</td><td>&quot;pierogies&quot;</td><td>&quot;AGRICULTURAL PROCESSED -&gt; BREA…</td><td>&quot;level0 -&gt; level1 -&gt; level2 -&gt; …</td><td>&quot;x&quot;</td><td>null</td><td>null</td></tr><tr><td>&quot;3AFT28WXM0FZW2ONKVQAM4MWVTOIOB&quot;</td><td>&quot;3RWE2M8QW3N9U64P5S6SQUIOFSN0NV&quot;</td><td>&quot;A1SMKHKMXWYIMW&quot;</td><td>&quot;A.Lala Hanitra&quot;</td><td>13942</td><td>&quot;hamburger bun&quot;</td><td>&quot;AGRICULTURAL PROCESSED -&gt; GRAI…</td><td>&quot;level0 -&gt; level1 -&gt; level2&quot;</td><td>&quot;WRONG&quot;</td><td>&quot;The taxonomy also had SPECIES …</td><td>null</td></tr><tr><td>&quot;3IJ95K7NEIP3IQIGTSQUM39BQ6QNG8&quot;</td><td>&quot;3XCC1ODXD7OIXX1GFXHOEKEGTUMRQM&quot;</td><td>&quot;A1SMKHKMXWYIMW&quot;</td><td>&quot;A.Lala Hanitra&quot;</td><td>12812</td><td>&quot;calorie - reduced mayonnaise&quot;</td><td>&quot;ANIMAL DERIVED -&gt; EGGS*&quot;</td><td>&quot;level0 -&gt; level1&quot;</td><td>&quot;x&quot;</td><td>null</td><td>null</td></tr></tbody></table></div>"
      ],
      "text/plain": [
       "shape: (5, 11)\n",
       "┌────────────┬───────────┬───────────┬───────────┬───┬───────────┬──────────┬───────────┬──────────┐\n",
       "│ hit_id     ┆ assign_id ┆ worker_id ┆ worker_na ┆ … ┆ answer_le ┆ Decision ┆ Comment   ┆ Colonna1 │\n",
       "│ ---        ┆ ---       ┆ ---       ┆ me        ┆   ┆ vel_path  ┆ ---      ┆ ---       ┆ ---      │\n",
       "│ str        ┆ str       ┆ str       ┆ ---       ┆   ┆ ---       ┆ str      ┆ str       ┆ str      │\n",
       "│            ┆           ┆           ┆ str       ┆   ┆ str       ┆          ┆           ┆          │\n",
       "╞════════════╪═══════════╪═══════════╪═══════════╪═══╪═══════════╪══════════╪═══════════╪══════════╡\n",
       "│ 3WJGKMRWW3 ┆ 3DQQ64TAN ┆ A1SMKHKMX ┆ A.Lala    ┆ … ┆ level0 -> ┆ x        ┆ null      ┆ null     │\n",
       "│ MHF2BY2CG8 ┆ 2Y25HHNEE ┆ WYIMW     ┆ Hanitra   ┆   ┆ level1 -> ┆          ┆           ┆          │\n",
       "│ 07C2EA0DCA ┆ C51EWNG1P ┆           ┆           ┆   ┆ level2 -> ┆          ┆           ┆          │\n",
       "│            ┆ WPP       ┆           ┆           ┆   ┆ …         ┆          ┆           ┆          │\n",
       "│ 3SX4X51T9L ┆ 3VBEN272M ┆ A1SMKHKMX ┆ A.Lala    ┆ … ┆ level0 -> ┆ x        ┆ null      ┆ null     │\n",
       "│ MKQK5P87YX ┆ 6C3LN7FRQ ┆ WYIMW     ┆ Hanitra   ┆   ┆ level1 -> ┆          ┆           ┆          │\n",
       "│ 56YDILMAO2 ┆ CHAGFA9X4 ┆           ┆           ┆   ┆ level2    ┆          ┆           ┆          │\n",
       "│            ┆ GSO       ┆           ┆           ┆   ┆           ┆          ┆           ┆          │\n",
       "│ 37VUR2VJ7V ┆ 3PM8NZGV8 ┆ A1SMKHKMX ┆ A.Lala    ┆ … ┆ level0 -> ┆ x        ┆ null      ┆ null     │\n",
       "│ 2NN7VMMJWD ┆ KT2UTNSOW ┆ WYIMW     ┆ Hanitra   ┆   ┆ level1 -> ┆          ┆           ┆          │\n",
       "│ Z5BTPDU1C5 ┆ NG3204UB5 ┆           ┆           ┆   ┆ level2 -> ┆          ┆           ┆          │\n",
       "│            ┆ QXF       ┆           ┆           ┆   ┆ …         ┆          ┆           ┆          │\n",
       "│ 3AFT28WXM0 ┆ 3RWE2M8QW ┆ A1SMKHKMX ┆ A.Lala    ┆ … ┆ level0 -> ┆ WRONG    ┆ The       ┆ null     │\n",
       "│ FZW2ONKVQA ┆ 3N9U64P5S ┆ WYIMW     ┆ Hanitra   ┆   ┆ level1 -> ┆          ┆ taxonomy  ┆          │\n",
       "│ M4MWVTOIOB ┆ 6SQUIOFSN ┆           ┆           ┆   ┆ level2    ┆          ┆ also had  ┆          │\n",
       "│            ┆ 0NV       ┆           ┆           ┆   ┆           ┆          ┆ SPECIES … ┆          │\n",
       "│ 3IJ95K7NEI ┆ 3XCC1ODXD ┆ A1SMKHKMX ┆ A.Lala    ┆ … ┆ level0 -> ┆ x        ┆ null      ┆ null     │\n",
       "│ P3IQIGTSQU ┆ 7OIXX1GFX ┆ WYIMW     ┆ Hanitra   ┆   ┆ level1    ┆          ┆           ┆          │\n",
       "│ M39BQ6QNG8 ┆ HOEKEGTUM ┆           ┆           ┆   ┆           ┆          ┆           ┆          │\n",
       "│            ┆ RQM       ┆           ┆           ┆   ┆           ┆          ┆           ┆          │\n",
       "└────────────┴───────────┴───────────┴───────────┴───┴───────────┴──────────┴───────────┴──────────┘"
      ]
     },
     "execution_count": 2,
     "metadata": {},
     "output_type": "execute_result"
    }
   ],
   "source": [
    "mturk_ws_decisions_file = 'manual_decision_answers_30_September_12_25.xlsx'\n",
    "mturk_df = pl.read_excel(mturk_ws_decisions_file)\n",
    "print(\"# Answers\", len(mturk_df))\n",
    "mturk_df.head(5)"
   ]
  },
  {
   "cell_type": "markdown",
   "id": "cab13ecd-6694-415a-94f1-aece26c37208",
   "metadata": {},
   "source": [
    "Retrieve only accepted answers (Decision in ['x', 'x (CHECK)'], but 'x (CHECK)' must be checked."
   ]
  },
  {
   "cell_type": "code",
   "execution_count": 3,
   "id": "215a5f3d-ee69-413a-9a0b-0076e334d39e",
   "metadata": {
    "scrolled": true
   },
   "outputs": [
    {
     "name": "stdout",
     "output_type": "stream",
     "text": [
      "# Accepted Answers 4311\n"
     ]
    }
   ],
   "source": [
    "accepted_mturk_df = mturk_df.filter(pl.col('Decision').is_in(['x', 'x (CHECK)']))\n",
    "print(\"# Accepted Answers\", len(accepted_mturk_df))"
   ]
  },
  {
   "cell_type": "markdown",
   "id": "f5c04bf6-3e0f-44d8-a0e9-ef69e0863268",
   "metadata": {},
   "source": [
    "Count number of answers for each unique ingredient"
   ]
  },
  {
   "cell_type": "code",
   "execution_count": 4,
   "id": "0ecd9622-e4b4-4177-9d4f-79103e9cf09b",
   "metadata": {},
   "outputs": [],
   "source": [
    "answers_per_ingredient_df = accepted_mturk_df.group_by(pl.col('ingredient')).len()\n",
    "ingredients_with_multiple_answers = answers_per_ingredient_df.filter(pl.col('len') > 1)['ingredient'].to_numpy()"
   ]
  },
  {
   "cell_type": "code",
   "execution_count": 5,
   "id": "929f4ff9-f554-411f-a4b2-1282ea98e2dd",
   "metadata": {},
   "outputs": [
    {
     "data": {
      "text/plain": [
       "<Axes: xlabel='AnswersPerIngredient', ylabel='Count'>"
      ]
     },
     "execution_count": 5,
     "metadata": {},
     "output_type": "execute_result"
    },
    {
     "data": {
      "image/png": "[encoded data removed]",
      "text/plain": [
       "<Figure size 640x480 with 1 Axes>"
      ]
     },
     "metadata": {},
     "output_type": "display_data"
    }
   ],
   "source": [
    "import seaborn as sns\n",
    "%matplotlib inline\n",
    "sns.histplot(answers_per_ingredient_df.to_pandas().rename(columns={'len': 'AnswersPerIngredient'}), x='AnswersPerIngredient')"
   ]
  },
  {
   "cell_type": "markdown",
   "id": "27cbcb6b-1190-4311-9326-9d703f4e8473",
   "metadata": {},
   "source": [
    "Get answers_path of ingredients with multiple answers"
   ]
  },
  {
   "cell_type": "code",
   "execution_count": 6,
   "id": "d26c1863-266c-4017-ba9a-05f6b2e6c9d9",
   "metadata": {},
   "outputs": [
    {
     "data": {
      "text/html": [
       "<div><style>\n",
       ".dataframe > thead > tr,\n",
       ".dataframe > tbody > tr {\n",
       "  text-align: right;\n",
       "  white-space: pre-wrap;\n",
       "}\n",
       "</style>\n",
       "<small>shape: (822, 2)</small><table border=\"1\" class=\"dataframe\"><thead><tr><th>ingredient</th><th>answer_path</th></tr><tr><td>str</td><td>str</td></tr></thead><tbody><tr><td>&quot;&quot;orange, zest of&quot;&quot;</td><td>&quot;CROPS -&gt; FRUIT (GENERIC) -&gt; I DON&#x27;T KNOW&quot;</td></tr><tr><td>&quot;&quot;orange, zest of&quot;&quot;</td><td>&quot;CROPS -&gt; FRUIT (GENERIC) -&gt; FRUIT LOCAL -&gt; ORANGE&quot;</td></tr><tr><td>&quot;2% fat cottage cheese&quot;</td><td>&quot;ANIMAL DERIVED -&gt; CHEESE (GENERIC) -&gt; CHEESE FRESH -&gt; I DON&#x27;T KNOW&quot;</td></tr><tr><td>&quot;2% fat cottage cheese&quot;</td><td>&quot;ANIMAL DERIVED -&gt; CHEESE (GENERIC) -&gt; CHEESE FRESH -&gt; I DON&#x27;T KNOW&quot;</td></tr><tr><td>&quot;9 - grain bread&quot;</td><td>&quot;AGRICULTURAL PROCESSED -&gt; BREAD (GENERIC) -&gt; BREAD -&gt; BREAD MULTICEREAL**&quot;</td></tr><tr><td>&quot;9 - grain bread&quot;</td><td>&quot;AGRICULTURAL PROCESSED -&gt; BREAD (GENERIC) -&gt; BREAD -&gt; BREAD MULTICEREAL**&quot;</td></tr><tr><td>&quot;Baby Spinach&quot;</td><td>&quot;CROPS -&gt; VEGETABLES (GENERIC) -&gt; VEGETABLES LOCAL -&gt; SPINACH&quot;</td></tr><tr><td>&quot;Baby Spinach&quot;</td><td>&quot;CROPS -&gt; VEGETABLES (GENERIC) -&gt; VEGETABLES LOCAL -&gt; SPINACH&quot;</td></tr><tr><td>&quot;Barilla lasagna&quot;</td><td>&quot;AGRICULTURAL PROCESSED -&gt; PASTA (GENERIC) -&gt; PASTA*&quot;</td></tr><tr><td>&quot;Barilla lasagna&quot;</td><td>&quot;AGRICULTURAL PROCESSED -&gt; PASTA (GENERIC) -&gt; PASTA*&quot;</td></tr><tr><td>&quot;Boar\\&#x27;s Head All Natural Muenster Cheese&quot;</td><td>&quot;ANIMAL DERIVED -&gt; CHEESE (GENERIC) -&gt; CHEESE FRESH -&gt; I DON&#x27;T KNOW&quot;</td></tr><tr><td>&quot;Boar\\&#x27;s Head All Natural Muenster Cheese&quot;</td><td>&quot;ANIMAL DERIVED -&gt; CHEESE (GENERIC) -&gt; I DON&#x27;T KNOW&quot;</td></tr><tr><td>&quot;Cadbury Caramello chocolate bars&quot;</td><td>&quot;AGRICULTURAL PROCESSED -&gt; CHOCOLATE -&gt; MILK CHOCOLATE&quot;</td></tr><tr><td>&quot;Cadbury Caramello chocolate bars&quot;</td><td>&quot;AGRICULTURAL PROCESSED -&gt; CHOCOLATE -&gt; I DON&#x27;T KNOW&quot;</td></tr><tr><td>&quot;Catalina dressing&quot;</td><td>&quot;AGRICULTURAL PROCESSED -&gt; DRESSING -&gt; I DON&#x27;T KNOW&quot;</td></tr><tr><td>&quot;Catalina dressing&quot;</td><td>&quot;AGRICULTURAL PROCESSED -&gt; DRESSING -&gt; I DON&#x27;T KNOW&quot;</td></tr><tr><td>&quot;Clear Jel&quot;</td><td>&quot;AGRICULTURAL PROCESSED -&gt; I DON&#x27;T KNOW&quot;</td></tr><tr><td>&quot;Clear Jel&quot;</td><td>&quot;AGRICULTURAL PROCESSED -&gt; I DON&#x27;T KNOW&quot;</td></tr><tr><td>&quot;Country Bob all purpose sauce&quot;</td><td>&quot;AGRICULTURAL PROCESSED -&gt; DRESSING -&gt; I DON&#x27;T KNOW&quot;</td></tr><tr><td>&quot;Country Bob all purpose sauce&quot;</td><td>&quot;AGRICULTURAL PROCESSED -&gt; DRESSING -&gt; I DON&#x27;T KNOW&quot;</td></tr><tr><td>&quot;DelMonte stewed tomatoes&quot;</td><td>&quot;AGRICULTURAL PROCESSED -&gt; TOMATO PUREE,PEELED, CHOPPED -&gt; I DON&#x27;T KNOW&quot;</td></tr><tr><td>&quot;DelMonte stewed tomatoes&quot;</td><td>&quot;AGRICULTURAL PROCESSED -&gt; TOMATO PUREE,PEELED, CHOPPED -&gt; I DON&#x27;T KNOW&quot;</td></tr><tr><td>&quot;Deluxe peanut butter brownie mix&quot;</td><td>&quot;AGRICULTURAL PROCESSED -&gt; NUTS PASTE -&gt; PEANUT BUTTER&quot;</td></tr><tr><td>&quot;Deluxe peanut butter brownie mix&quot;</td><td>&quot;AGRICULTURAL PROCESSED -&gt; SWEETS -&gt; COCOA CAKES AND CROISSANT**&quot;</td></tr><tr><td>&quot;Dove milk chocolate&quot;</td><td>&quot;AGRICULTURAL PROCESSED -&gt; CHOCOLATE -&gt; MILK CHOCOLATE&quot;</td></tr><tr><td>&quot;Dove milk chocolate&quot;</td><td>&quot;AGRICULTURAL PROCESSED -&gt; CHOCOLATE -&gt; MILK CHOCOLATE&quot;</td></tr><tr><td>&quot;Extra mature cheddar cheese&quot;</td><td>&quot;ANIMAL DERIVED -&gt; CHEESE (GENERIC) -&gt; CHEESE HARD &amp; SEMI-HARD -&gt; CEDDAR&quot;</td></tr><tr><td>&quot;Extra mature cheddar cheese&quot;</td><td>&quot;ANIMAL DERIVED -&gt; CHEESE (GENERIC) -&gt; CHEESE HARD &amp; SEMI-HARD -&gt; CEDDAR&quot;</td></tr><tr><td>&quot;Fisher Chef\\&#x27;s Naturals Sliced Almonds&quot;</td><td>&quot;CROPS -&gt; NUTS (GENERIC) -&gt; NUTS -&gt; ALMOND&quot;</td></tr><tr><td>&quot;Fisher Chef\\&#x27;s Naturals Sliced Almonds&quot;</td><td>&quot;CROPS -&gt; NUTS (GENERIC) -&gt; NUTS -&gt; ALMOND&quot;</td></tr><tr><td>&quot;French cheese&quot;</td><td>&quot;ANIMAL DERIVED -&gt; CHEESE (GENERIC) -&gt; I DON&#x27;T KNOW&quot;</td></tr><tr><td>&quot;French cheese&quot;</td><td>&quot;ANIMAL DERIVED -&gt; CHEESE (GENERIC) -&gt; I DON&#x27;T KNOW&quot;</td></tr><tr><td>&quot;Ghirardelli double chocolate chips&quot;</td><td>&quot;AGRICULTURAL PROCESSED -&gt; COCOA DERIVATES -&gt; I DON&#x27;T KNOW&quot;</td></tr><tr><td>&quot;Ghirardelli double chocolate chips&quot;</td><td>&quot;AGRICULTURAL PROCESSED -&gt; CHOCOLATE -&gt; MILK CHOCOLATE&quot;</td></tr><tr><td>&quot;Green Giant roasted potatoes with garlic and herbs&quot;</td><td>&quot;CROPS -&gt; VEGETABLES (GENERIC) -&gt; VEGETABLES LOCAL -&gt; I DON&#x27;T KNOW&quot;</td></tr><tr><td>&quot;Green Giant roasted potatoes with garlic and herbs&quot;</td><td>&quot;AGRICULTURAL PROCESSED -&gt; STARCHY TUBER -&gt; POTATO FLAKES&quot;</td></tr><tr><td>&quot;Green Giant roasted potatoes with garlic and herbs&quot;</td><td>&quot;AGRICULTURAL PROCESSED -&gt; VEGETABLES FROZEN -&gt; POTATOES (F)&quot;</td></tr><tr><td>&quot;Hass avocadoes&quot;</td><td>&quot;CROPS -&gt; FRUIT (GENERIC) -&gt; FRUIT IMPORTED -&gt; AVOCADO (I)&quot;</td></tr><tr><td>&quot;Hass avocadoes&quot;</td><td>&quot;CROPS -&gt; FRUIT (GENERIC) -&gt; FRUIT LOCAL -&gt; AVOCADO&quot;</td></tr><tr><td>&quot;Hershey candy cane kisses&quot;</td><td>&quot;AGRICULTURAL PROCESSED -&gt; CHOCOLATE -&gt; I DON&#x27;T KNOW&quot;</td></tr><tr><td>&quot;Hershey candy cane kisses&quot;</td><td>&quot;AGRICULTURAL PROCESSED -&gt; SWEETS -&gt; I DON&#x27;T KNOW&quot;</td></tr><tr><td>&quot;Hershey\\&#x27;s semi - sweet baking chocolate&quot;</td><td>&quot;AGRICULTURAL PROCESSED -&gt; CHOCOLATE -&gt; I DON&#x27;T KNOW&quot;</td></tr><tr><td>&quot;Hershey\\&#x27;s semi - sweet baking chocolate&quot;</td><td>&quot;AGRICULTURAL PROCESSED -&gt; CHOCOLATE -&gt; DARK CHOCOLATE&quot;</td></tr><tr><td>&quot;Hershey\\&#x27;s semi - sweet chocolate chips&quot;</td><td>&quot;AGRICULTURAL PROCESSED -&gt; CHOCOLATE -&gt; I DON&#x27;T KNOW&quot;</td></tr><tr><td>&quot;Hershey\\&#x27;s semi - sweet chocolate chips&quot;</td><td>&quot;AGRICULTURAL PROCESSED -&gt; CHOCOLATE -&gt; DARK CHOCOLATE&quot;</td></tr><tr><td>&quot;Hidden Valley Ranch dip&quot;</td><td>&quot;AGRICULTURAL PROCESSED -&gt; DRESSING -&gt; I DON&#x27;T KNOW&quot;</td></tr><tr><td>&quot;Hidden Valley Ranch dip&quot;</td><td>&quot;AGRICULTURAL PROCESSED -&gt; DRESSING -&gt; I DON&#x27;T KNOW&quot;</td></tr><tr><td>&quot;KRAFT Shredded Low - Moisture Part - Skim Mozzarella Cheese&quot;</td><td>&quot;ANIMAL DERIVED -&gt; CHEESE (GENERIC) -&gt; CHEESE FRESH -&gt; MOZZARELLA&quot;</td></tr><tr><td>&quot;KRAFT Shredded Low - Moisture Part - Skim Mozzarella Cheese&quot;</td><td>&quot;ANIMAL DERIVED -&gt; CHEESE (GENERIC) -&gt; CHEESE FRESH -&gt; MOZZARELLA&quot;</td></tr><tr><td>&quot;Kellogg\\&#x27;s Just Right cereal&quot;</td><td>&quot;AGRICULTURAL PROCESSED -&gt; BREAKFAST CEREALS -&gt; I DON&#x27;T KNOW&quot;</td></tr><tr><td>&hellip;</td><td>&hellip;</td></tr><tr><td>&quot;vegetarian dinner cuts&quot;</td><td>&quot;AGRICULTURAL PROCESSED -&gt; VEGETAL PRODUCTS (GENERIC) -&gt; VEGETAL PROTEINS -&gt; I DON&#x27;T KNOW&quot;</td></tr><tr><td>&quot;vegetarian dinner cuts&quot;</td><td>&quot;AGRICULTURAL PROCESSED -&gt; VEGETAL PRODUCTS (GENERIC) -&gt; VEGETAL PROTEINS -&gt; I DON&#x27;T KNOW&quot;</td></tr><tr><td>&quot;vegetarian ham&quot;</td><td>&quot;AGRICULTURAL PROCESSED -&gt; VEGETAL PRODUCTS (GENERIC) -&gt; VEGETAL PROTEINS -&gt; I DON&#x27;T KNOW&quot;</td></tr><tr><td>&quot;vegetarian ham&quot;</td><td>&quot;AGRICULTURAL PROCESSED -&gt; VEGETAL PRODUCTS (GENERIC) -&gt; VEGETAL PROTEINS -&gt; I DON&#x27;T KNOW&quot;</td></tr><tr><td>&quot;vermicelli rice noodles&quot;</td><td>&quot;CROPS -&gt; RICE*&quot;</td></tr><tr><td>&quot;vermicelli rice noodles&quot;</td><td>&quot;AGRICULTURAL PROCESSED -&gt; PASTA (GENERIC) -&gt; PASTA*&quot;</td></tr><tr><td>&quot;vidalia onion&quot;</td><td>&quot;CROPS -&gt; VEGETABLES (GENERIC) -&gt; VEGETABLES LOCAL -&gt; ONION&quot;</td></tr><tr><td>&quot;vidalia onion&quot;</td><td>&quot;CROPS -&gt; VEGETABLES (GENERIC) -&gt; VEGETABLES LOCAL -&gt; ONION&quot;</td></tr><tr><td>&quot;vidalia onion&quot;</td><td>&quot;CROPS -&gt; VEGETABLES (GENERIC) -&gt; VEGETABLES LOCAL -&gt; ONION&quot;</td></tr><tr><td>&quot;waffle cones&quot;</td><td>&quot;AGRICULTURAL PROCESSED -&gt; SWEETS -&gt; I DON&#x27;T KNOW&quot;</td></tr><tr><td>&quot;waffle cones&quot;</td><td>&quot;AGRICULTURAL PROCESSED -&gt; BISCUITS -&gt; I DON&#x27;T KNOW&quot;</td></tr><tr><td>&quot;watermelon juice&quot;</td><td>&quot;AGRICULTURAL PROCESSED -&gt; FRUIT JUICE -&gt; I DON&#x27;T KNOW&quot;</td></tr><tr><td>&quot;watermelon juice&quot;</td><td>&quot;AGRICULTURAL PROCESSED -&gt; FRUIT JUICE -&gt; I DON&#x27;T KNOW&quot;</td></tr><tr><td>&quot;watermelon radishes&quot;</td><td>&quot;CROPS -&gt; VEGETABLES (GENERIC) -&gt; I DON&#x27;T KNOW&quot;</td></tr><tr><td>&quot;watermelon radishes&quot;</td><td>&quot;CROPS -&gt; VEGETABLES (GENERIC) -&gt; VEGETABLES LOCAL -&gt; RADISH&quot;</td></tr><tr><td>&quot;watermelon radishes&quot;</td><td>&quot;CROPS -&gt; FRUIT (GENERIC) -&gt; FRUIT LOCAL -&gt; WATERMELON&quot;</td></tr><tr><td>&quot;wheat thins crackers&quot;</td><td>&quot;AGRICULTURAL PROCESSED -&gt; CRACKERS -&gt; WHOLEGRAIN CRACKERS**&quot;</td></tr><tr><td>&quot;wheat thins crackers&quot;</td><td>&quot;AGRICULTURAL PROCESSED -&gt; CRACKERS -&gt; WHOLEGRAIN CRACKERS**&quot;</td></tr><tr><td>&quot;white bread rolls dough&quot;</td><td>&quot;AGRICULTURAL PROCESSED -&gt; BREAD (GENERIC) -&gt; BREAD -&gt; I DON&#x27;T KNOW&quot;</td></tr><tr><td>&quot;white bread rolls dough&quot;</td><td>&quot;AGRICULTURAL PROCESSED -&gt; BREAD (GENERIC) -&gt; BREAD -&gt; I DON&#x27;T KNOW&quot;</td></tr><tr><td>&quot;white corn flour&quot;</td><td>&quot;AGRICULTURAL PROCESSED -&gt; GRAIN FLOUR -&gt; MAIZE FLOUR&quot;</td></tr><tr><td>&quot;white corn flour&quot;</td><td>&quot;AGRICULTURAL PROCESSED -&gt; GRAIN FLOUR -&gt; MAIZE FLOUR&quot;</td></tr><tr><td>&quot;white lily self - rising flour&quot;</td><td>&quot;AGRICULTURAL PROCESSED -&gt; GRAIN FLOUR -&gt; RICE FLOUR &amp; MEAL&quot;</td></tr><tr><td>&quot;white lily self - rising flour&quot;</td><td>&quot;AGRICULTURAL PROCESSED -&gt; GRAIN FLOUR -&gt; I DON&#x27;T KNOW&quot;</td></tr><tr><td>&quot;white onions&quot;</td><td>&quot;CROPS -&gt; VEGETABLES (GENERIC) -&gt; VEGETABLES LOCAL -&gt; ONION&quot;</td></tr><tr><td>&quot;white onions&quot;</td><td>&quot;CROPS -&gt; VEGETABLES (GENERIC) -&gt; VEGETABLES LOCAL -&gt; ONION&quot;</td></tr><tr><td>&quot;white port&quot;</td><td>&quot;AGRICULTURAL PROCESSED -&gt; WINE -&gt; WINE WHITE&quot;</td></tr><tr><td>&quot;white port&quot;</td><td>&quot;AGRICULTURAL PROCESSED -&gt; WINE -&gt; WINE WHITE&quot;</td></tr><tr><td>&quot;white truffle cream&quot;</td><td>&quot;CROPS -&gt; MUSHROOM*&quot;</td></tr><tr><td>&quot;white truffle cream&quot;</td><td>&quot;AGRICULTURAL PROCESSED -&gt; I DON&#x27;T KNOW&quot;</td></tr><tr><td>&quot;white turkey meat&quot;</td><td>&quot;MEAT PRODUCTS -&gt; POULTRY MEAT -&gt; POULTRY BONE FREE MEAT -&gt; TURKEY BONE FREE MEAT&quot;</td></tr><tr><td>&quot;white turkey meat&quot;</td><td>&quot;MEAT PRODUCTS -&gt; POULTRY MEAT -&gt; POULTRY BONE FREE MEAT -&gt; TURKEY BONE FREE MEAT&quot;</td></tr><tr><td>&quot;white turkey meat&quot;</td><td>&quot;MEAT PRODUCTS -&gt; POULTRY MEAT -&gt; POULTRY BONE FREE MEAT -&gt; TURKEY MEAT BONE FREE&quot;</td></tr><tr><td>&quot;whole black peppercorn&quot;</td><td>&quot;CROPS -&gt; FRUIT (GENERIC) -&gt; DRIED FRUIT -&gt; I DON&#x27;T KNOW&quot;</td></tr><tr><td>&quot;whole black peppercorn&quot;</td><td>&quot;CROPS -&gt; SPICIES -&gt; PEPPER (PIPER SPP.)&quot;</td></tr><tr><td>&quot;whole boneless skinless chicken breast&quot;</td><td>&quot;MEAT PRODUCTS -&gt; POULTRY MEAT -&gt; POULTRY BONE FREE MEAT -&gt; CHICKEN BONE FREE MEAT&quot;</td></tr><tr><td>&quot;whole boneless skinless chicken breast&quot;</td><td>&quot;MEAT PRODUCTS -&gt; POULTRY MEAT -&gt; POULTRY BONE FREE MEAT -&gt; CHICKEN BONE FREE MEAT&quot;</td></tr><tr><td>&quot;whole wheat flat bread&quot;</td><td>&quot;AGRICULTURAL PROCESSED -&gt; BREAD (GENERIC) -&gt; BREAD -&gt; BREAD WHOLE**&quot;</td></tr><tr><td>&quot;whole wheat flat bread&quot;</td><td>&quot;AGRICULTURAL PROCESSED -&gt; BREAD (GENERIC) -&gt; BREAD -&gt; BREAD WHOLE**&quot;</td></tr><tr><td>&quot;whole wheat pasta&quot;</td><td>&quot;AGRICULTURAL PROCESSED -&gt; PASTA (GENERIC) -&gt; PASTA*&quot;</td></tr><tr><td>&quot;whole wheat pasta&quot;</td><td>&quot;AGRICULTURAL PROCESSED -&gt; PASTA (GENERIC) -&gt; PASTA*&quot;</td></tr><tr><td>&quot;whole wheat pasta&quot;</td><td>&quot;AGRICULTURAL PROCESSED -&gt; PASTA (GENERIC) -&gt; PASTA*&quot;</td></tr><tr><td>&quot;wild rice mix&quot;</td><td>&quot;CROPS -&gt; RICE*&quot;</td></tr><tr><td>&quot;wild rice mix&quot;</td><td>&quot;CROPS -&gt; RICE*&quot;</td></tr><tr><td>&quot;xylitol sugar substitute&quot;</td><td>&quot;AGRICULTURAL PROCESSED -&gt; SUGAR -&gt; I DON&#x27;T KNOW&quot;</td></tr><tr><td>&quot;xylitol sugar substitute&quot;</td><td>&quot;AGRICULTURAL PROCESSED -&gt; SUGAR -&gt; I DON&#x27;T KNOW&quot;</td></tr><tr><td>&quot;yard - long beans&quot;</td><td>&quot;CROPS -&gt; LEGUMES (GENERIC) -&gt; LEGUMES -&gt; BEAN&quot;</td></tr><tr><td>&quot;yard - long beans&quot;</td><td>&quot;CROPS -&gt; LEGUMES (GENERIC) -&gt; LEGUMES FRESH -&gt; BEAN (fresh)&quot;</td></tr><tr><td>&quot;yellow pear tomato&quot;</td><td>&quot;CROPS -&gt; VEGETABLES (GENERIC) -&gt; VEGETABLES LOCAL -&gt; TOMATO&quot;</td></tr><tr><td>&quot;yellow pear tomato&quot;</td><td>&quot;CROPS -&gt; VEGETABLES (GENERIC) -&gt; VEGETABLES LOCAL -&gt; TOMATO&quot;</td></tr></tbody></table></div>"
      ],
      "text/plain": [
       "shape: (822, 2)\n",
       "┌─────────────────────────────────────────────────────────────┬──────────────────────────────────────────────────────────────────────────────────────────┐\n",
       "│ ingredient                                                  ┆ answer_path                                                                              │\n",
       "│ ---                                                         ┆ ---                                                                                      │\n",
       "│ str                                                         ┆ str                                                                                      │\n",
       "╞═════════════════════════════════════════════════════════════╪══════════════════════════════════════════════════════════════════════════════════════════╡\n",
       "│ \"orange, zest of\"                                           ┆ CROPS -> FRUIT (GENERIC) -> I DON'T KNOW                                                 │\n",
       "│ \"orange, zest of\"                                           ┆ CROPS -> FRUIT (GENERIC) -> FRUIT LOCAL -> ORANGE                                        │\n",
       "│ 2% fat cottage cheese                                       ┆ ANIMAL DERIVED -> CHEESE (GENERIC) -> CHEESE FRESH -> I DON'T KNOW                       │\n",
       "│ 2% fat cottage cheese                                       ┆ ANIMAL DERIVED -> CHEESE (GENERIC) -> CHEESE FRESH -> I DON'T KNOW                       │\n",
       "│ 9 - grain bread                                             ┆ AGRICULTURAL PROCESSED -> BREAD (GENERIC) -> BREAD -> BREAD MULTICEREAL**                │\n",
       "│ 9 - grain bread                                             ┆ AGRICULTURAL PROCESSED -> BREAD (GENERIC) -> BREAD -> BREAD MULTICEREAL**                │\n",
       "│ Baby Spinach                                                ┆ CROPS -> VEGETABLES (GENERIC) -> VEGETABLES LOCAL -> SPINACH                             │\n",
       "│ Baby Spinach                                                ┆ CROPS -> VEGETABLES (GENERIC) -> VEGETABLES LOCAL -> SPINACH                             │\n",
       "│ Barilla lasagna                                             ┆ AGRICULTURAL PROCESSED -> PASTA (GENERIC) -> PASTA*                                      │\n",
       "│ Barilla lasagna                                             ┆ AGRICULTURAL PROCESSED -> PASTA (GENERIC) -> PASTA*                                      │\n",
       "│ Boar\\'s Head All Natural Muenster Cheese                    ┆ ANIMAL DERIVED -> CHEESE (GENERIC) -> CHEESE FRESH -> I DON'T KNOW                       │\n",
       "│ Boar\\'s Head All Natural Muenster Cheese                    ┆ ANIMAL DERIVED -> CHEESE (GENERIC) -> I DON'T KNOW                                       │\n",
       "│ Cadbury Caramello chocolate bars                            ┆ AGRICULTURAL PROCESSED -> CHOCOLATE -> MILK CHOCOLATE                                    │\n",
       "│ Cadbury Caramello chocolate bars                            ┆ AGRICULTURAL PROCESSED -> CHOCOLATE -> I DON'T KNOW                                      │\n",
       "│ Catalina dressing                                           ┆ AGRICULTURAL PROCESSED -> DRESSING -> I DON'T KNOW                                       │\n",
       "│ Catalina dressing                                           ┆ AGRICULTURAL PROCESSED -> DRESSING -> I DON'T KNOW                                       │\n",
       "│ Clear Jel                                                   ┆ AGRICULTURAL PROCESSED -> I DON'T KNOW                                                   │\n",
       "│ Clear Jel                                                   ┆ AGRICULTURAL PROCESSED -> I DON'T KNOW                                                   │\n",
       "│ Country Bob all purpose sauce                               ┆ AGRICULTURAL PROCESSED -> DRESSING -> I DON'T KNOW                                       │\n",
       "│ Country Bob all purpose sauce                               ┆ AGRICULTURAL PROCESSED -> DRESSING -> I DON'T KNOW                                       │\n",
       "│ DelMonte stewed tomatoes                                    ┆ AGRICULTURAL PROCESSED -> TOMATO PUREE,PEELED, CHOPPED -> I DON'T KNOW                   │\n",
       "│ DelMonte stewed tomatoes                                    ┆ AGRICULTURAL PROCESSED -> TOMATO PUREE,PEELED, CHOPPED -> I DON'T KNOW                   │\n",
       "│ Deluxe peanut butter brownie mix                            ┆ AGRICULTURAL PROCESSED -> NUTS PASTE -> PEANUT BUTTER                                    │\n",
       "│ Deluxe peanut butter brownie mix                            ┆ AGRICULTURAL PROCESSED -> SWEETS -> COCOA CAKES AND CROISSANT**                          │\n",
       "│ Dove milk chocolate                                         ┆ AGRICULTURAL PROCESSED -> CHOCOLATE -> MILK CHOCOLATE                                    │\n",
       "│ Dove milk chocolate                                         ┆ AGRICULTURAL PROCESSED -> CHOCOLATE -> MILK CHOCOLATE                                    │\n",
       "│ Extra mature cheddar cheese                                 ┆ ANIMAL DERIVED -> CHEESE (GENERIC) -> CHEESE HARD & SEMI-HARD -> CEDDAR                  │\n",
       "│ Extra mature cheddar cheese                                 ┆ ANIMAL DERIVED -> CHEESE (GENERIC) -> CHEESE HARD & SEMI-HARD -> CEDDAR                  │\n",
       "│ Fisher Chef\\'s Naturals Sliced Almonds                      ┆ CROPS -> NUTS (GENERIC) -> NUTS -> ALMOND                                                │\n",
       "│ Fisher Chef\\'s Naturals Sliced Almonds                      ┆ CROPS -> NUTS (GENERIC) -> NUTS -> ALMOND                                                │\n",
       "│ French cheese                                               ┆ ANIMAL DERIVED -> CHEESE (GENERIC) -> I DON'T KNOW                                       │\n",
       "│ French cheese                                               ┆ ANIMAL DERIVED -> CHEESE (GENERIC) -> I DON'T KNOW                                       │\n",
       "│ Ghirardelli double chocolate chips                          ┆ AGRICULTURAL PROCESSED -> COCOA DERIVATES -> I DON'T KNOW                                │\n",
       "│ Ghirardelli double chocolate chips                          ┆ AGRICULTURAL PROCESSED -> CHOCOLATE -> MILK CHOCOLATE                                    │\n",
       "│ Green Giant roasted potatoes with garlic and herbs          ┆ CROPS -> VEGETABLES (GENERIC) -> VEGETABLES LOCAL -> I DON'T KNOW                        │\n",
       "│ Green Giant roasted potatoes with garlic and herbs          ┆ AGRICULTURAL PROCESSED -> STARCHY TUBER -> POTATO FLAKES                                 │\n",
       "│ Green Giant roasted potatoes with garlic and herbs          ┆ AGRICULTURAL PROCESSED -> VEGETABLES FROZEN -> POTATOES (F)                              │\n",
       "│ Hass avocadoes                                              ┆ CROPS -> FRUIT (GENERIC) -> FRUIT IMPORTED -> AVOCADO (I)                                │\n",
       "│ Hass avocadoes                                              ┆ CROPS -> FRUIT (GENERIC) -> FRUIT LOCAL -> AVOCADO                                       │\n",
       "│ Hershey candy cane kisses                                   ┆ AGRICULTURAL PROCESSED -> CHOCOLATE -> I DON'T KNOW                                      │\n",
       "│ Hershey candy cane kisses                                   ┆ AGRICULTURAL PROCESSED -> SWEETS -> I DON'T KNOW                                         │\n",
       "│ Hershey\\'s semi - sweet baking chocolate                    ┆ AGRICULTURAL PROCESSED -> CHOCOLATE -> I DON'T KNOW                                      │\n",
       "│ Hershey\\'s semi - sweet baking chocolate                    ┆ AGRICULTURAL PROCESSED -> CHOCOLATE -> DARK CHOCOLATE                                    │\n",
       "│ Hershey\\'s semi - sweet chocolate chips                     ┆ AGRICULTURAL PROCESSED -> CHOCOLATE -> I DON'T KNOW                                      │\n",
       "│ Hershey\\'s semi - sweet chocolate chips                     ┆ AGRICULTURAL PROCESSED -> CHOCOLATE -> DARK CHOCOLATE                                    │\n",
       "│ Hidden Valley Ranch dip                                     ┆ AGRICULTURAL PROCESSED -> DRESSING -> I DON'T KNOW                                       │\n",
       "│ Hidden Valley Ranch dip                                     ┆ AGRICULTURAL PROCESSED -> DRESSING -> I DON'T KNOW                                       │\n",
       "│ KRAFT Shredded Low - Moisture Part - Skim Mozzarella Cheese ┆ ANIMAL DERIVED -> CHEESE (GENERIC) -> CHEESE FRESH -> MOZZARELLA                         │\n",
       "│ KRAFT Shredded Low - Moisture Part - Skim Mozzarella Cheese ┆ ANIMAL DERIVED -> CHEESE (GENERIC) -> CHEESE FRESH -> MOZZARELLA                         │\n",
       "│ Kellogg\\'s Just Right cereal                                ┆ AGRICULTURAL PROCESSED -> BREAKFAST CEREALS -> I DON'T KNOW                              │\n",
       "│ …                                                           ┆ …                                                                                        │\n",
       "│ vegetarian dinner cuts                                      ┆ AGRICULTURAL PROCESSED -> VEGETAL PRODUCTS (GENERIC) -> VEGETAL PROTEINS -> I DON'T KNOW │\n",
       "│ vegetarian dinner cuts                                      ┆ AGRICULTURAL PROCESSED -> VEGETAL PRODUCTS (GENERIC) -> VEGETAL PROTEINS -> I DON'T KNOW │\n",
       "│ vegetarian ham                                              ┆ AGRICULTURAL PROCESSED -> VEGETAL PRODUCTS (GENERIC) -> VEGETAL PROTEINS -> I DON'T KNOW │\n",
       "│ vegetarian ham                                              ┆ AGRICULTURAL PROCESSED -> VEGETAL PRODUCTS (GENERIC) -> VEGETAL PROTEINS -> I DON'T KNOW │\n",
       "│ vermicelli rice noodles                                     ┆ CROPS -> RICE*                                                                           │\n",
       "│ vermicelli rice noodles                                     ┆ AGRICULTURAL PROCESSED -> PASTA (GENERIC) -> PASTA*                                      │\n",
       "│ vidalia onion                                               ┆ CROPS -> VEGETABLES (GENERIC) -> VEGETABLES LOCAL -> ONION                               │\n",
       "│ vidalia onion                                               ┆ CROPS -> VEGETABLES (GENERIC) -> VEGETABLES LOCAL -> ONION                               │\n",
       "│ vidalia onion                                               ┆ CROPS -> VEGETABLES (GENERIC) -> VEGETABLES LOCAL -> ONION                               │\n",
       "│ waffle cones                                                ┆ AGRICULTURAL PROCESSED -> SWEETS -> I DON'T KNOW                                         │\n",
       "│ waffle cones                                                ┆ AGRICULTURAL PROCESSED -> BISCUITS -> I DON'T KNOW                                       │\n",
       "│ watermelon juice                                            ┆ AGRICULTURAL PROCESSED -> FRUIT JUICE -> I DON'T KNOW                                    │\n",
       "│ watermelon juice                                            ┆ AGRICULTURAL PROCESSED -> FRUIT JUICE -> I DON'T KNOW                                    │\n",
       "│ watermelon radishes                                         ┆ CROPS -> VEGETABLES (GENERIC) -> I DON'T KNOW                                            │\n",
       "│ watermelon radishes                                         ┆ CROPS -> VEGETABLES (GENERIC) -> VEGETABLES LOCAL -> RADISH                              │\n",
       "│ watermelon radishes                                         ┆ CROPS -> FRUIT (GENERIC) -> FRUIT LOCAL -> WATERMELON                                    │\n",
       "│ wheat thins crackers                                        ┆ AGRICULTURAL PROCESSED -> CRACKERS -> WHOLEGRAIN CRACKERS**                              │\n",
       "│ wheat thins crackers                                        ┆ AGRICULTURAL PROCESSED -> CRACKERS -> WHOLEGRAIN CRACKERS**                              │\n",
       "│ white bread rolls dough                                     ┆ AGRICULTURAL PROCESSED -> BREAD (GENERIC) -> BREAD -> I DON'T KNOW                       │\n",
       "│ white bread rolls dough                                     ┆ AGRICULTURAL PROCESSED -> BREAD (GENERIC) -> BREAD -> I DON'T KNOW                       │\n",
       "│ white corn flour                                            ┆ AGRICULTURAL PROCESSED -> GRAIN FLOUR -> MAIZE FLOUR                                     │\n",
       "│ white corn flour                                            ┆ AGRICULTURAL PROCESSED -> GRAIN FLOUR -> MAIZE FLOUR                                     │\n",
       "│ white lily self - rising flour                              ┆ AGRICULTURAL PROCESSED -> GRAIN FLOUR -> RICE FLOUR & MEAL                               │\n",
       "│ white lily self - rising flour                              ┆ AGRICULTURAL PROCESSED -> GRAIN FLOUR -> I DON'T KNOW                                    │\n",
       "│ white onions                                                ┆ CROPS -> VEGETABLES (GENERIC) -> VEGETABLES LOCAL -> ONION                               │\n",
       "│ white onions                                                ┆ CROPS -> VEGETABLES (GENERIC) -> VEGETABLES LOCAL -> ONION                               │\n",
       "│ white port                                                  ┆ AGRICULTURAL PROCESSED -> WINE -> WINE WHITE                                             │\n",
       "│ white port                                                  ┆ AGRICULTURAL PROCESSED -> WINE -> WINE WHITE                                             │\n",
       "│ white truffle cream                                         ┆ CROPS -> MUSHROOM*                                                                       │\n",
       "│ white truffle cream                                         ┆ AGRICULTURAL PROCESSED -> I DON'T KNOW                                                   │\n",
       "│ white turkey meat                                           ┆ MEAT PRODUCTS -> POULTRY MEAT -> POULTRY BONE FREE MEAT -> TURKEY BONE FREE MEAT         │\n",
       "│ white turkey meat                                           ┆ MEAT PRODUCTS -> POULTRY MEAT -> POULTRY BONE FREE MEAT -> TURKEY BONE FREE MEAT         │\n",
       "│ white turkey meat                                           ┆ MEAT PRODUCTS -> POULTRY MEAT -> POULTRY BONE FREE MEAT -> TURKEY MEAT BONE FREE         │\n",
       "│ whole black peppercorn                                      ┆ CROPS -> FRUIT (GENERIC) -> DRIED FRUIT -> I DON'T KNOW                                  │\n",
       "│ whole black peppercorn                                      ┆ CROPS -> SPICIES -> PEPPER (PIPER SPP.)                                                  │\n",
       "│ whole boneless skinless chicken breast                      ┆ MEAT PRODUCTS -> POULTRY MEAT -> POULTRY BONE FREE MEAT -> CHICKEN BONE FREE MEAT        │\n",
       "│ whole boneless skinless chicken breast                      ┆ MEAT PRODUCTS -> POULTRY MEAT -> POULTRY BONE FREE MEAT -> CHICKEN BONE FREE MEAT        │\n",
       "│ whole wheat flat bread                                      ┆ AGRICULTURAL PROCESSED -> BREAD (GENERIC) -> BREAD -> BREAD WHOLE**                      │\n",
       "│ whole wheat flat bread                                      ┆ AGRICULTURAL PROCESSED -> BREAD (GENERIC) -> BREAD -> BREAD WHOLE**                      │\n",
       "│ whole wheat pasta                                           ┆ AGRICULTURAL PROCESSED -> PASTA (GENERIC) -> PASTA*                                      │\n",
       "│ whole wheat pasta                                           ┆ AGRICULTURAL PROCESSED -> PASTA (GENERIC) -> PASTA*                                      │\n",
       "│ whole wheat pasta                                           ┆ AGRICULTURAL PROCESSED -> PASTA (GENERIC) -> PASTA*                                      │\n",
       "│ wild rice mix                                               ┆ CROPS -> RICE*                                                                           │\n",
       "│ wild rice mix                                               ┆ CROPS -> RICE*                                                                           │\n",
       "│ xylitol sugar substitute                                    ┆ AGRICULTURAL PROCESSED -> SUGAR -> I DON'T KNOW                                          │\n",
       "│ xylitol sugar substitute                                    ┆ AGRICULTURAL PROCESSED -> SUGAR -> I DON'T KNOW                                          │\n",
       "│ yard - long beans                                           ┆ CROPS -> LEGUMES (GENERIC) -> LEGUMES -> BEAN                                            │\n",
       "│ yard - long beans                                           ┆ CROPS -> LEGUMES (GENERIC) -> LEGUMES FRESH -> BEAN (fresh)                              │\n",
       "│ yellow pear tomato                                          ┆ CROPS -> VEGETABLES (GENERIC) -> VEGETABLES LOCAL -> TOMATO                              │\n",
       "│ yellow pear tomato                                          ┆ CROPS -> VEGETABLES (GENERIC) -> VEGETABLES LOCAL -> TOMATO                              │\n",
       "└─────────────────────────────────────────────────────────────┴──────────────────────────────────────────────────────────────────────────────────────────┘"
      ]
     },
     "metadata": {},
     "output_type": "display_data"
    }
   ],
   "source": [
    "multi_ans_df = accepted_mturk_df.filter(pl.col('ingredient').is_in(ingredients_with_multiple_answers))\n",
    "multi_ans_path_sort_df = multi_ans_df.select(pl.col(['ingredient', 'answer_path'])).sort('ingredient')\n",
    "with pl.Config(fmt_str_lengths=1000, tbl_width_chars=1000, tbl_rows=100):\n",
    "    display(multi_ans_path_sort_df)"
   ]
  },
  {
   "cell_type": "markdown",
   "id": "bb460814-921d-4c5b-a07b-30c9c8dd7029",
   "metadata": {},
   "source": [
    "Filters only ingredients with multiple answers that are different from each other to fix them manually"
   ]
  },
  {
   "cell_type": "code",
   "execution_count": 89,
   "id": "c0345854-6c16-47fa-8c2a-9ed92330954f",
   "metadata": {},
   "outputs": [],
   "source": [
    "answer_path_per_ingr = multi_ans_path_sort_df.group_by('ingredient').agg('answer_path')\n",
    "unique_ans_per_ingr = answer_path_per_ingr.select(pl.col('answer_path').list.unique().list.len())['answer_path']\n",
    "collisions_answers_per_ingr = answer_path_per_ingr.filter(unique_ans_per_ingr > 1).explode('answer_path')\n",
    "collisions_answers_per_ingr.write_csv('first_ingredient_collision.csv', separator='\\t')"
   ]
  },
  {
   "cell_type": "markdown",
   "id": "c912ed7b-d29f-4298-a960-abf534a8d077",
   "metadata": {},
   "source": [
    "Retrieve reviewed and fixed collisions and use it to update the dataframe"
   ]
  },
  {
   "cell_type": "code",
   "execution_count": 7,
   "id": "b9efe3d1-9415-4093-8348-e00b4b1b64b5",
   "metadata": {
    "scrolled": true
   },
   "outputs": [
    {
     "name": "stderr",
     "output_type": "stream",
     "text": [
      "/tmp/ipykernel_1384802/2661873076.py:2: DeprecationWarning: The default coalesce behavior of left join will change to `False` in the next breaking release. Pass `coalesce=True` to keep the current behavior and silence this warning.\n",
      "  joined_collisions_df = accepted_mturk_df.join(fixed_collisions_answers_per_ingr, how='left', on='ingredient', suffix='_new')\n"
     ]
    },
    {
     "data": {
      "text/html": [
       "<div><style>\n",
       ".dataframe > thead > tr,\n",
       ".dataframe > tbody > tr {\n",
       "  text-align: right;\n",
       "  white-space: pre-wrap;\n",
       "}\n",
       "</style>\n",
       "<small>shape: (4_639, 2)</small><table border=\"1\" class=\"dataframe\"><thead><tr><th>ingredient</th><th>answer_path</th></tr><tr><td>str</td><td>str</td></tr></thead><tbody><tr><td>&quot;monterey jack and cheddar chee…</td><td>null</td></tr><tr><td>&quot;white port&quot;</td><td>null</td></tr><tr><td>&quot;pierogies&quot;</td><td>null</td></tr><tr><td>&quot;calorie - reduced mayonnaise&quot;</td><td>null</td></tr><tr><td>&quot;Mrs Richardson\\&#x27;s caramel topp…</td><td>null</td></tr><tr><td>&hellip;</td><td>&hellip;</td></tr><tr><td>&quot;Dutch - processed cocoa powder&quot;</td><td>null</td></tr><tr><td>&quot;pork tenderloin&quot;</td><td>&quot;MEAT PRODUCTS -&gt; PORK MEAT -&gt; …</td></tr><tr><td>&quot;pork tenderloin&quot;</td><td>&quot;MEAT PRODUCTS -&gt; PORK MEAT -&gt; …</td></tr><tr><td>&quot;Milk Duds&quot;</td><td>null</td></tr><tr><td>&quot;dried apricot halves&quot;</td><td>null</td></tr></tbody></table></div>"
      ],
      "text/plain": [
       "shape: (4_639, 2)\n",
       "┌─────────────────────────────────┬─────────────────────────────────┐\n",
       "│ ingredient                      ┆ answer_path                     │\n",
       "│ ---                             ┆ ---                             │\n",
       "│ str                             ┆ str                             │\n",
       "╞═════════════════════════════════╪═════════════════════════════════╡\n",
       "│ monterey jack and cheddar chee… ┆ null                            │\n",
       "│ white port                      ┆ null                            │\n",
       "│ pierogies                       ┆ null                            │\n",
       "│ calorie - reduced mayonnaise    ┆ null                            │\n",
       "│ Mrs Richardson\\'s caramel topp… ┆ null                            │\n",
       "│ …                               ┆ …                               │\n",
       "│ Dutch - processed cocoa powder  ┆ null                            │\n",
       "│ pork tenderloin                 ┆ MEAT PRODUCTS -> PORK MEAT -> … │\n",
       "│ pork tenderloin                 ┆ MEAT PRODUCTS -> PORK MEAT -> … │\n",
       "│ Milk Duds                       ┆ null                            │\n",
       "│ dried apricot halves            ┆ null                            │\n",
       "└─────────────────────────────────┴─────────────────────────────────┘"
      ]
     },
     "execution_count": 7,
     "metadata": {},
     "output_type": "execute_result"
    }
   ],
   "source": [
    "fixed_collisions_answers_per_ingr = pl.read_csv('first_ingredient_collision_reviewed.csv', separator=';')\n",
    "joined_collisions_df = accepted_mturk_df.join(fixed_collisions_answers_per_ingr, how='left', on='ingredient', suffix='_new')\n",
    "new_answers_path = joined_collisions_df.select(pl.col('ingredient'), pl.col('answer_path_new').alias('answer_path'))\n",
    "new_answers_path"
   ]
  },
  {
   "cell_type": "code",
   "execution_count": 8,
   "id": "e2f9d7db-a749-4d6b-9a1e-e1cf999f56df",
   "metadata": {
    "scrolled": true
   },
   "outputs": [
    {
     "data": {
      "text/html": [
       "<div><style>\n",
       ".dataframe > thead > tr,\n",
       ".dataframe > tbody > tr {\n",
       "  text-align: right;\n",
       "  white-space: pre-wrap;\n",
       "}\n",
       "</style>\n",
       "<small>shape: (2, 11)</small><table border=\"1\" class=\"dataframe\"><thead><tr><th>hit_id</th><th>assign_id</th><th>worker_id</th><th>worker_name</th><th>ingredient_index</th><th>ingredient</th><th>answer_path</th><th>answer_level_path</th><th>Decision</th><th>Comment</th><th>Colonna1</th></tr><tr><td>str</td><td>str</td><td>str</td><td>str</td><td>i64</td><td>str</td><td>str</td><td>str</td><td>str</td><td>str</td><td>str</td></tr></thead><tbody><tr><td>&quot;39AYGO6AG0X1LXTAHFH8ACWMWSJ6NL&quot;</td><td>&quot;32N49TQG32VI3OBGZLPCPHOEAE8AVE&quot;</td><td>&quot;A267R298DA9HV9&quot;</td><td>&quot;Jonathan Hawkins&quot;</td><td>8075</td><td>&quot;pork tenderloin&quot;</td><td>&quot;MEAT PRODUCTS -&gt; PORK MEAT -&gt; …</td><td>&quot;level0 -&gt; level1 -&gt; level2&quot;</td><td>&quot;x&quot;</td><td>null</td><td>&quot;FLAG&quot;</td></tr><tr><td>&quot;39AYGO6AG0X1LXTAHFH8ACWMWSJ6NL&quot;</td><td>&quot;3R0T90IZ1EPNE6IJU4MHVBBSNTLCGR&quot;</td><td>&quot;A1ARY2P1UWNNRD&quot;</td><td>&quot;will&quot;</td><td>8075</td><td>&quot;pork tenderloin&quot;</td><td>&quot;MEAT PRODUCTS -&gt; PORK MEAT -&gt; …</td><td>&quot;level0 -&gt; level1 -&gt; level2&quot;</td><td>&quot;x&quot;</td><td>null</td><td>null</td></tr></tbody></table></div>"
      ],
      "text/plain": [
       "shape: (2, 11)\n",
       "┌────────────┬────────────┬────────────┬───────────┬───┬───────────┬──────────┬─────────┬──────────┐\n",
       "│ hit_id     ┆ assign_id  ┆ worker_id  ┆ worker_na ┆ … ┆ answer_le ┆ Decision ┆ Comment ┆ Colonna1 │\n",
       "│ ---        ┆ ---        ┆ ---        ┆ me        ┆   ┆ vel_path  ┆ ---      ┆ ---     ┆ ---      │\n",
       "│ str        ┆ str        ┆ str        ┆ ---       ┆   ┆ ---       ┆ str      ┆ str     ┆ str      │\n",
       "│            ┆            ┆            ┆ str       ┆   ┆ str       ┆          ┆         ┆          │\n",
       "╞════════════╪════════════╪════════════╪═══════════╪═══╪═══════════╪══════════╪═════════╪══════════╡\n",
       "│ 39AYGO6AG0 ┆ 32N49TQG32 ┆ A267R298DA ┆ Jonathan  ┆ … ┆ level0 -> ┆ x        ┆ null    ┆ FLAG     │\n",
       "│ X1LXTAHFH8 ┆ VI3OBGZLPC ┆ 9HV9       ┆ Hawkins   ┆   ┆ level1 -> ┆          ┆         ┆          │\n",
       "│ ACWMWSJ6NL ┆ PHOEAE8AVE ┆            ┆           ┆   ┆ level2    ┆          ┆         ┆          │\n",
       "│ 39AYGO6AG0 ┆ 3R0T90IZ1E ┆ A1ARY2P1UW ┆ will      ┆ … ┆ level0 -> ┆ x        ┆ null    ┆ null     │\n",
       "│ X1LXTAHFH8 ┆ PNE6IJU4MH ┆ NNRD       ┆           ┆   ┆ level1 -> ┆          ┆         ┆          │\n",
       "│ ACWMWSJ6NL ┆ VBBSNTLCGR ┆            ┆           ┆   ┆ level2    ┆          ┆         ┆          │\n",
       "└────────────┴────────────┴────────────┴───────────┴───┴───────────┴──────────┴─────────┴──────────┘"
      ]
     },
     "execution_count": 8,
     "metadata": {},
     "output_type": "execute_result"
    }
   ],
   "source": [
    "accepted_mturk_df.filter(pl.col('ingredient') == 'pork tenderloin')"
   ]
  },
  {
   "cell_type": "code",
   "execution_count": 9,
   "id": "77db65b3-b0b1-45f5-a93e-c2a6bcf047eb",
   "metadata": {
    "scrolled": true
   },
   "outputs": [
    {
     "data": {
      "text/html": [
       "<div><style>\n",
       ".dataframe > thead > tr,\n",
       ".dataframe > tbody > tr {\n",
       "  text-align: right;\n",
       "  white-space: pre-wrap;\n",
       "}\n",
       "</style>\n",
       "<small>shape: (2, 12)</small><table border=\"1\" class=\"dataframe\"><thead><tr><th>hit_id</th><th>assign_id</th><th>worker_id</th><th>worker_name</th><th>ingredient_index</th><th>ingredient</th><th>answer_path</th><th>answer_level_path</th><th>Decision</th><th>Comment</th><th>Colonna1</th><th>answer_path_right</th></tr><tr><td>str</td><td>str</td><td>str</td><td>str</td><td>i64</td><td>str</td><td>str</td><td>str</td><td>str</td><td>str</td><td>str</td><td>str</td></tr></thead><tbody><tr><td>&quot;39AYGO6AG0X1LXTAHFH8ACWMWSJ6NL&quot;</td><td>&quot;32N49TQG32VI3OBGZLPCPHOEAE8AVE&quot;</td><td>&quot;A267R298DA9HV9&quot;</td><td>&quot;Jonathan Hawkins&quot;</td><td>8075</td><td>&quot;pork tenderloin&quot;</td><td>&quot;MEAT PRODUCTS -&gt; PORK MEAT -&gt; I DON&#x27;T KNOW&quot;</td><td>&quot;level0 -&gt; level1 -&gt; level2&quot;</td><td>&quot;x&quot;</td><td>null</td><td>&quot;FLAG&quot;</td><td>&quot;MEAT PRODUCTS -&gt; PORK MEAT -&gt; PORK BONE FREE MEAT*&quot;</td></tr><tr><td>&quot;39AYGO6AG0X1LXTAHFH8ACWMWSJ6NL&quot;</td><td>&quot;3R0T90IZ1EPNE6IJU4MHVBBSNTLCGR&quot;</td><td>&quot;A1ARY2P1UWNNRD&quot;</td><td>&quot;will&quot;</td><td>8075</td><td>&quot;pork tenderloin&quot;</td><td>&quot;MEAT PRODUCTS -&gt; PORK MEAT -&gt; PORK BONE FREE MEAT*&quot;</td><td>&quot;level0 -&gt; level1 -&gt; level2&quot;</td><td>&quot;x&quot;</td><td>null</td><td>null</td><td>&quot;MEAT PRODUCTS -&gt; PORK MEAT -&gt; PORK BONE FREE MEAT*&quot;</td></tr></tbody></table></div>"
      ],
      "text/plain": [
       "shape: (2, 12)\n",
       "┌────────────────────────────────┬────────────────────────────────┬────────────────┬──────────────────┬───┬──────────┬─────────┬──────────┬────────────────────────────────────────────────────┐\n",
       "│ hit_id                         ┆ assign_id                      ┆ worker_id      ┆ worker_name      ┆ … ┆ Decision ┆ Comment ┆ Colonna1 ┆ answer_path_right                                  │\n",
       "│ ---                            ┆ ---                            ┆ ---            ┆ ---              ┆   ┆ ---      ┆ ---     ┆ ---      ┆ ---                                                │\n",
       "│ str                            ┆ str                            ┆ str            ┆ str              ┆   ┆ str      ┆ str     ┆ str      ┆ str                                                │\n",
       "╞════════════════════════════════╪════════════════════════════════╪════════════════╪══════════════════╪═══╪══════════╪═════════╪══════════╪════════════════════════════════════════════════════╡\n",
       "│ 39AYGO6AG0X1LXTAHFH8ACWMWSJ6NL ┆ 32N49TQG32VI3OBGZLPCPHOEAE8AVE ┆ A267R298DA9HV9 ┆ Jonathan Hawkins ┆ … ┆ x        ┆ null    ┆ FLAG     ┆ MEAT PRODUCTS -> PORK MEAT -> PORK BONE FREE MEAT* │\n",
       "│ 39AYGO6AG0X1LXTAHFH8ACWMWSJ6NL ┆ 3R0T90IZ1EPNE6IJU4MHVBBSNTLCGR ┆ A1ARY2P1UWNNRD ┆ will             ┆ … ┆ x        ┆ null    ┆ null     ┆ MEAT PRODUCTS -> PORK MEAT -> PORK BONE FREE MEAT* │\n",
       "└────────────────────────────────┴────────────────────────────────┴────────────────┴──────────────────┴───┴──────────┴─────────┴──────────┴────────────────────────────────────────────────────┘"
      ]
     },
     "metadata": {},
     "output_type": "display_data"
    }
   ],
   "source": [
    "with pl.Config(fmt_str_lengths=1000, tbl_width_chars=1000, tbl_rows=100):\n",
    "    display(accepted_mturk_df.filter(pl.col('ingredient') == 'pork tenderloin').join(fixed_collisions_answers_per_ingr.unique(), how='inner', on='ingredient'))"
   ]
  },
  {
   "cell_type": "code",
   "execution_count": 24,
   "id": "46e84716",
   "metadata": {},
   "outputs": [],
   "source": [
    "accepted_mturk_df_clean = accepted_mturk_df.select(pl.all().exclude('ingredient'), pl.col('ingredient').str.replace_all(r'\"', ''))"
   ]
  },
  {
   "cell_type": "code",
   "execution_count": 41,
   "id": "ae3ac930",
   "metadata": {},
   "outputs": [],
   "source": [
    "accepted_mturk_df_with_fixed_collisions = accepted_mturk_df_clean.join(\n",
    "    fixed_collisions_answers_per_ingr.unique(), how='left', on='ingredient', coalesce=False\n",
    ").with_columns(\n",
    "    pl.coalesce([\"ingredient_right\", \"ingredient\"]).alias(\"ingredient\"),\n",
    "    pl.coalesce([\"answer_path_right\", \"answer_path\"]).alias(\"answer_path\"),\n",
    ").drop([\"ingredient_right\", \"answer_path_right\"])"
   ]
  },
  {
   "cell_type": "code",
   "execution_count": 45,
   "id": "fe166808",
   "metadata": {},
   "outputs": [],
   "source": [
    "accepted_mturk_df_with_fixed_collisions.rename({'Colonna1': 'Bot'}).write_csv('accepted_mturk_df_with_fixed_collisions.csv', separator='\\t')"
   ]
  }
 ],
 "metadata": {
  "kernelspec": {
   "display_name": "ExplainableRecKGsLLMs",
   "language": "python",
   "name": "python3"
  },
  "language_info": {
   "codemirror_mode": {
    "name": "ipython",
    "version": 3
   },
   "file_extension": ".py",
   "mimetype": "text/x-python",
   "name": "python",
   "nbconvert_exporter": "python",
   "pygments_lexer": "ipython3",
   "version": "3.8.10"
  }
 },
 "nbformat": 4,
 "nbformat_minor": 5
}
